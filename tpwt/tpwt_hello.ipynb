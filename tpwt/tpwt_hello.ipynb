{
 "cells": [
  {
   "cell_type": "markdown",
   "id": "2ab537c9",
   "metadata": {},
   "source": [
    "# TPWT\n",
    "\n",
    "Two Plane Wave Tomography"
   ]
  },
  {
   "cell_type": "code",
   "execution_count": 1,
   "id": "e6292c46",
   "metadata": {},
   "outputs": [],
   "source": [
    "from icecream import ic"
   ]
  },
  {
   "cell_type": "code",
   "execution_count": 3,
   "id": "448a2c11",
   "metadata": {},
   "outputs": [
    {
     "name": "stderr",
     "output_type": "stream",
     "text": [
      "ic| hello: 'Hello, this is tpwt in ipython.'\n"
     ]
    },
    {
     "data": {
      "text/plain": [
       "'Hello, this is tpwt in ipython.'"
      ]
     },
     "execution_count": 3,
     "metadata": {},
     "output_type": "execute_result"
    }
   ],
   "source": [
    "hello = \"Hello, this is tpwt in ipython.\"\n",
    "ic(hello)"
   ]
  },
  {
   "cell_type": "code",
   "execution_count": null,
   "id": "33ea28a8",
   "metadata": {},
   "outputs": [],
   "source": []
  }
 ],
 "metadata": {
  "kernelspec": {
   "display_name": "Python 3 (ipykernel)",
   "language": "python",
   "name": "python3"
  },
  "language_info": {
   "codemirror_mode": {
    "name": "ipython",
    "version": 3
   },
   "file_extension": ".py",
   "mimetype": "text/x-python",
   "name": "python",
   "nbconvert_exporter": "python",
   "pygments_lexer": "ipython3",
   "version": "3.10.4"
  }
 },
 "nbformat": 4,
 "nbformat_minor": 5
}
